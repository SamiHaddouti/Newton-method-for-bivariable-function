{
  "nbformat": 4,
  "nbformat_minor": 0,
  "metadata": {
    "colab": {
      "name": "Newton_Method_two-variables.ipynb",
      "provenance": [],
      "collapsed_sections": [],
      "authorship_tag": "ABX9TyP0SHjHXvq6w7BUF5acGFnS",
      "include_colab_link": true
    },
    "kernelspec": {
      "name": "python3",
      "display_name": "Python 3"
    },
    "language_info": {
      "name": "python"
    }
  },
  "cells": [
    {
      "cell_type": "markdown",
      "metadata": {
        "id": "view-in-github",
        "colab_type": "text"
      },
      "source": [
        "<a href=\"https://colab.research.google.com/github/SamiHaddouti/Newton-method-for-bivariable-function/blob/main/Newton_Method_two_variables.ipynb\" target=\"_parent\"><img src=\"https://colab.research.google.com/assets/colab-badge.svg\" alt=\"Open In Colab\"/></a>"
      ]
    },
    {
      "cell_type": "markdown",
      "source": [
        "# Python script to run the newton method for a bivariable function.\n",
        "* Sample function 100(y-x^2)^2+(1-x)^2\n",
        "* Symbol assignment needs refactoring\n"
      ],
      "metadata": {
        "id": "KeUGhoFSyHHB"
      }
    },
    {
      "cell_type": "code",
      "source": [
        "#!/usr/bin/env python3\n",
        "# -*- coding: utf-8 -*-\n",
        "\"\"\"\n",
        "@author: SamiHaddouti\n",
        "\"\"\"\n",
        "# Newton method with fixed step size and automated break if exact minimum already found\n",
        "# ----------------------------------------------------------------------------\n",
        "# Import the NumPy library and SymPy library \n",
        "import numpy as np\n",
        "import sympy as sp\n",
        "\n",
        "x,y = sp.Symbol(\"x\"), sp.Symbol(\"y\")   # Need to be reassigned in functions\n",
        "\n",
        "# Declare function\n",
        "f = 100*(y-x**2)**2+(1-x)**2\n",
        "\n",
        "# Derivatives of f\n",
        "fx = sp.diff(f, x)\n",
        "fy = sp.diff(f, y)\n",
        "fxx = sp.diff(fx, x)\n",
        "fyy = sp.diff(fy, y)\n",
        "fxy = sp.diff(fx, y)\n",
        "\n",
        "# Method to calculate second derivative functions with x0 and y0 and return a (inverted) matrix\n",
        "def create_matrix(x):\n",
        "  x0, y0 = x\n",
        "  fxx0 = fxx.subs(sp.Symbol(\"x\"), x0).subs(sp.Symbol(\"y\"), y0)\n",
        "  fyy0 = fyy.subs(sp.Symbol(\"x\"), x0).subs(sp.Symbol(\"y\"), y0)\n",
        "  fxy0 = fxy.subs(sp.Symbol(\"x\"), x0).subs(sp.Symbol(\"y\"), y0)\n",
        "  hess_matrix = sp.Matrix([[fxx0, fxy0],  # Hessian matrix of f\n",
        "                           [fxy0, fyy0]])\n",
        "  inv_h_matrix = hess_matrix.inv()        # Inverted matrix \n",
        "  return inv_h_matrix\n",
        "\n",
        "# Newton method to find out next x1: [x1, y1] after calculated based on starting x0, y0 \n",
        "def newton_method(x):\n",
        "  x0, y0 = x\n",
        "  fx0 = fx.subs(sp.Symbol(\"x\"), x0).subs(sp.Symbol(\"y\"), y0)     # derivate of f by x (x0, y0) \n",
        "  fy0 = fy.subs(sp.Symbol(\"x\"), x0).subs(sp.Symbol(\"y\"), y0)     # derivate of f by y (x0, y0)\n",
        "  fx0y0 = np.array([fx0, fy0])   \n",
        "  inv_h_matrix = create_matrix(x)\n",
        "  x1 = np.subtract(np.array(x), np.dot(inv_h_matrix, fx0y0))\n",
        "  return x1\n",
        "\n",
        "# Declare starting point and max amount of steps\n",
        "max_steps = 15\n",
        "x0 = [0, 0]\n",
        "\n",
        "# Iterate newton method until max steps is reached or minimum already discovered \n",
        "for n in range(0, max_steps):\n",
        "  if n == 0:\n",
        "    x = newton_method(x0)\n",
        "  else:\n",
        "    if np.array_equal(x, newton_method(x)):\n",
        "      print('Newton Method stops. Minimum already found.')\n",
        "      break\n",
        "    x = newton_method(x)\n",
        "  print(f'{n+1}. Iteration:')\n",
        "  print(x)"
      ],
      "metadata": {
        "id": "NuTJqPSJyCBP"
      },
      "execution_count": null,
      "outputs": []
    }
  ]
}